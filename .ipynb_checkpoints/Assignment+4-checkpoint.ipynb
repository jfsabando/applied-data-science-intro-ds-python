{
 "cells": [
  {
   "cell_type": "markdown",
   "metadata": {},
   "source": [
    "---\n",
    "\n",
    "_You are currently looking at **version 1.1** of this notebook. To download notebooks and datafiles, as well as get help on Jupyter notebooks in the Coursera platform, visit the [Jupyter Notebook FAQ](https://www.coursera.org/learn/python-data-analysis/resources/0dhYG) course resource._\n",
    "\n",
    "---"
   ]
  },
  {
   "cell_type": "code",
   "execution_count": 184,
   "metadata": {
    "collapsed": true
   },
   "outputs": [],
   "source": [
    "import pandas as pd\n",
    "import numpy as np\n",
    "from scipy.stats import ttest_ind"
   ]
  },
  {
   "cell_type": "code",
   "execution_count": 185,
   "metadata": {
    "collapsed": false
   },
   "outputs": [],
   "source": [
    "# from IPython.core.display import HTML\n",
    "# css = open('style-table.css').read() + open('style-notebook.css').read()\n",
    "# HTML('<style>{}</style>'.format(css))\n",
    "# #to change the style of the panda dataframes. make it clearer to view content and headers"
   ]
  },
  {
   "cell_type": "markdown",
   "metadata": {},
   "source": [
    "### Assignment 4 - Hypothesis Testing\n",
    "This assignment requires more individual learning than previous assignments - you are encouraged to check out the [pandas documentation](http://pandas.pydata.org/pandas-docs/stable/) to find functions or methods you might not have used yet, or ask questions on [Stack Overflow](http://stackoverflow.com/) and tag them as pandas and python related. And of course, the discussion forums are open for interaction with your peers and the course staff.\n",
    "\n",
    "Definitions:\n",
    "* A _quarter_ is a specific three month period, Q1 is January through March, Q2 is April through June, Q3 is July through September, Q4 is October through December.\n",
    "* A _recession_ is defined as starting with two consecutive quarters of GDP decline, and ending with two consecutive quarters of GDP growth.\n",
    "* A _recession bottom_ is the quarter within a recession which had the lowest GDP.\n",
    "* A _university town_ is a city which has a high percentage of university students compared to the total population of the city.\n",
    "\n",
    "**Hypothesis**: University towns have their mean housing prices less effected by recessions. Run a t-test to compare the ratio of the mean price of houses in university towns the quarter before the recession starts compared to the recession bottom. (`price_ratio=quarter_before_recession/recession_bottom`)\n",
    "\n",
    "The following data files are available for this assignment:\n",
    "* From the [Zillow research data site](http://www.zillow.com/research/data/) there is housing data for the United States. In particular the datafile for [all homes at a city level](http://files.zillowstatic.com/research/public/City/City_Zhvi_AllHomes.csv), ```City_Zhvi_AllHomes.csv```, has median home sale prices at a fine grained level.\n",
    "* From the Wikipedia page on college towns is a list of [university towns in the United States](https://en.wikipedia.org/wiki/List_of_college_towns#College_towns_in_the_United_States) which has been copy and pasted into the file ```university_towns.txt```.\n",
    "* From Bureau of Economic Analysis, US Department of Commerce, the [GDP over time](http://www.bea.gov/national/index.htm#gdp) of the United States in current dollars (use the chained value in 2009 dollars), in quarterly intervals, in the file ```gdplev.xls```. For this assignment, only look at GDP data from the first quarter of 2000 onward.\n",
    "\n",
    "Each function in this assignment below is worth 10%, with the exception of ```run_ttest()```, which is worth 50%."
   ]
  },
  {
   "cell_type": "code",
   "execution_count": 186,
   "metadata": {
    "collapsed": false
   },
   "outputs": [],
   "source": [
    "# Use this dictionary to map state names to two letter acronyms\n",
    "states = {'OH': 'Ohio', 'KY': 'Kentucky', 'AS': 'American Samoa', 'NV': 'Nevada', 'WY': 'Wyoming', 'NA': 'National', 'AL': 'Alabama', 'MD': 'Maryland', 'AK': 'Alaska', 'UT': 'Utah', 'OR': 'Oregon', 'MT': 'Montana', 'IL': 'Illinois', 'TN': 'Tennessee', 'DC': 'District of Columbia', 'VT': 'Vermont', 'ID': 'Idaho', 'AR': 'Arkansas', 'ME': 'Maine', 'WA': 'Washington', 'HI': 'Hawaii', 'WI': 'Wisconsin', 'MI': 'Michigan', 'IN': 'Indiana', 'NJ': 'New Jersey', 'AZ': 'Arizona', 'GU': 'Guam', 'MS': 'Mississippi', 'PR': 'Puerto Rico', 'NC': 'North Carolina', 'TX': 'Texas', 'SD': 'South Dakota', 'MP': 'Northern Mariana Islands', 'IA': 'Iowa', 'MO': 'Missouri', 'CT': 'Connecticut', 'WV': 'West Virginia', 'SC': 'South Carolina', 'LA': 'Louisiana', 'KS': 'Kansas', 'NY': 'New York', 'NE': 'Nebraska', 'OK': 'Oklahoma', 'FL': 'Florida', 'CA': 'California', 'CO': 'Colorado', 'PA': 'Pennsylvania', 'DE': 'Delaware', 'NM': 'New Mexico', 'RI': 'Rhode Island', 'MN': 'Minnesota', 'VI': 'Virgin Islands', 'NH': 'New Hampshire', 'MA': 'Massachusetts', 'GA': 'Georgia', 'ND': 'North Dakota', 'VA': 'Virginia'}"
   ]
  },
  {
   "cell_type": "code",
   "execution_count": 187,
   "metadata": {
    "collapsed": false
   },
   "outputs": [],
   "source": [
    "def get_list_of_university_towns():\n",
    "    '''Returns a DataFrame of towns and the states they are in from the \n",
    "    university_towns.txt list. The format of the DataFrame should be:\n",
    "    DataFrame( [ [\"Michigan\", \"Ann Arbor\"], [\"Michigan\", \"Yipsilanti\"] ], \n",
    "    columns=[\"State\", \"RegionName\"]  )\n",
    "    \n",
    "    The following cleaning needs to be done:\n",
    "\n",
    "    1. For \"State\", removing characters from \"[\" to the end.\n",
    "    2. For \"RegionName\", when applicable, removing every character from \" (\" to the end.\n",
    "    3. Depending on how you read the data, you may need to remove newline character '\\n'. '''\n",
    "    df1 = pd.read_table('university_towns.txt', header = None) #initialization\n",
    "    state = []; regionname = [] #create empty lists to assign later to columns\n",
    "    for row in df1.itertuples(): #iterate through the dataframe\n",
    "        if row[1].rstrip().endswith('edit]'): #check which rows are states\n",
    "            state.append(row[1].rstrip().split('[')[0]) #insert state in clean format\n",
    "            regionname.append('') #add empty region\n",
    "        else:\n",
    "            state.append(np.nan) #fill with nan the ones that are regions; later cleanup\n",
    "            regionname.append(row[1].rstrip().split('(')[0].rstrip()) #insert region in clean format\n",
    "\n",
    "    df1['State'] = state; df1['RegionName'] = regionname #assign the values of the lists to the dataframe\n",
    "    df1 = df1.fillna(method = 'ffill') #fill the empty states of the regions\n",
    "\n",
    "    df1 = df1[df1[0].str.endswith('edit]') != True].drop(0, axis = 1) #stay only with regions, delete the original index/column\n",
    "    df1 = df1.reset_index().drop('index', axis = 1)\n",
    "    return df1\n",
    "# get_list_of_university_towns()"
   ]
  },
  {
   "cell_type": "code",
   "execution_count": 188,
   "metadata": {
    "collapsed": false
   },
   "outputs": [],
   "source": [
    "# # troubleshooting\n",
    "\n",
    "# df = get_list_of_university_towns()\n",
    "# cols = [\"State\", \"RegionName\"]\n",
    "\n",
    "# print('Shape test: ', \"Passed\" if df.shape ==\n",
    "#       (517, 2) else 'Failed')\n",
    "# print('Index test: ',\n",
    "#       \"Passed\" if df.index.tolist() == list(range(517))\n",
    "#       else 'Failed')\n",
    "\n",
    "# print('Column test: ',\n",
    "#       \"Passed\" if df.columns.tolist() == cols else 'Failed')\n",
    "# print('\\\\n test: ',\n",
    "#       \"Failed\" if any(df[cols[0]].str.contains(\n",
    "#           '\\n')) or any(df[cols[1]].str.contains('\\n'))\n",
    "#       else 'Passed')\n",
    "# print('Trailing whitespace test:',\n",
    "#       \"Failed\" if any(df[cols[0]].str.contains(\n",
    "#           '\\s+$')) or any(df[cols[1]].str.contains(\n",
    "#           '\\s+$'))\n",
    "#       else 'Passed')\n",
    "# print('\"(\" test:',\n",
    "#       \"Failed\" if any(df[cols[0]].str.contains(\n",
    "#           '\\(')) or any(df[cols[1]].str.contains(\n",
    "#           '\\('))\n",
    "#       else 'Passed')\n",
    "# print('\"[\" test:',\n",
    "#       \"Failed\" if any(df[cols[0]].str.contains(\n",
    "#           '\\[')) or any(df[cols[1]].str.contains(\n",
    "#           '\\]'))\n",
    "#       else 'Passed')\n",
    "# # from troubleshooting learners code, using incorrect regex\n",
    "# # for RegionName usually generates these common mismatches\n",
    "# rgn_rgx_mstch = [\n",
    "#     'Pomona', 'Mankato', 'Fulton', 'Sewanee']\n",
    "# rgn_loc = (33, 218, 237, 442)\n",
    "# print ('RegionName regex test: ', \"Passed\" if all(df.loc[\n",
    "#        rgn_loc, 'RegionName'] == rgn_rgx_mstch)\n",
    "#        else \"Failed\")\n",
    "# # when using split or find to extract regionName, these are\n",
    "# # common mismatches\n",
    "# rgn_splt_msmtch = [\n",
    "#     'The Five College Region of Western Massachusetts:',\n",
    "#     'Faribault, South Central College']\n",
    "# rgn_loc = (184, 217)\n",
    "# print ('RegionName regex test: ', \"Passed\" if all(df.loc[\n",
    "#        rgn_loc, 'RegionName'] == rgn_splt_msmtch)\n",
    "#        else \"Failed\")\n",
    "# #test if . was  inadvertently removed\n",
    "# print('RegionName regex test:',\"Passed\" if any(df[cols[1]].str.contains(\n",
    "#           '\\.')) else \"Failed\")\n",
    "# # use the values of the states dictionary precoded to verify\n",
    "# # state names are as expected\n",
    "# states_vlist = list(sorted(states.values()))\n",
    "# mismatchedStates = df[~df['State'].isin(\n",
    "#     states_vlist)].loc[:, 'State'].unique()\n",
    "# print ('State regex test: ', \"Passed\" if len(\n",
    "#     mismatchedStates) == 0 else \"Failed\")\n",
    "# if len(mismatchedStates) > 0:\n",
    "#     print()\n",
    "#     print('The following states failed the equality test:')\n",
    "#     print()\n",
    "#     print('\\n'.join(mismatchedStates))"
   ]
  },
  {
   "cell_type": "code",
   "execution_count": 189,
   "metadata": {
    "collapsed": false
   },
   "outputs": [],
   "source": [
    "def load_gdp():\n",
    "    gdp = pd.read_excel('gdplev.xls', skiprows = 7, names = ['year_quarter', 'gdpbillions2009dol'], parse_cols = [4, 6]) #load data\n",
    "    gdp = gdp.loc[gdp[gdp['year_quarter'] == '2000q1'].index.tolist()[0]:len(gdp)].reset_index(drop = True)\n",
    "    #find the value where 2000 starts, use this as the starting point\n",
    "    return gdp\n",
    "# load_gdp()"
   ]
  },
  {
   "cell_type": "code",
   "execution_count": 194,
   "metadata": {
    "collapsed": false
   },
   "outputs": [
    {
     "data": {
      "text/plain": [
       "'2008q3'"
      ]
     },
     "execution_count": 194,
     "metadata": {},
     "output_type": "execute_result"
    }
   ],
   "source": [
    "def get_recession_start():\n",
    "    '''Returns the year and quarter of the recession start time as a \n",
    "    string value in a format such as 2005q3'''\n",
    "    #     initial data loading & handling\n",
    "    recstart = load_gdp()\n",
    "    recstart['gdp_b'] = [1 if x > 0 else 0 for x in recstart['gdpbillions2009dol'].diff()] #get the current value - the before value\n",
    "    quarters = []; befores = -1\n",
    "\n",
    "    #iterate on the values of the differences, to start a recession two continuous decrease periods should happen\n",
    "    for i, v in recstart['gdp_b'].iteritems():\n",
    "    #     print(i, v, befores) #debugging\n",
    "        if (v == befores) & (v == 0): #current period is the same as the before period (and it's a decrease)\n",
    "            quarters.append(i-1) #the recession started the period before of the 2nd decrease happening\n",
    "            break\n",
    "        befores = v\n",
    "\n",
    "    return recstart['year_quarter'].loc[quarters[0]]\n",
    "# get_recession_start()"
   ]
  },
  {
   "cell_type": "code",
   "execution_count": 206,
   "metadata": {
    "collapsed": false
   },
   "outputs": [
    {
     "data": {
      "text/plain": [
       "'2009q4'"
      ]
     },
     "execution_count": 206,
     "metadata": {},
     "output_type": "execute_result"
    }
   ],
   "source": [
    "def get_recession_end():\n",
    "    '''Returns the year and quarter of the recession end time as a \n",
    "    string value in a format such as 2005q3'''       \n",
    "    #recession start information\n",
    "    recstart = load_gdp()\n",
    "    recstart['gdp_b'] = [1 if x > 0 else 0 for x in recstart['gdpbillions2009dol'].diff()] #get the current value - the before value\n",
    "    quarters = []; befores = -1\n",
    "    for i, v in recstart['gdp_b'].iteritems():\n",
    "        if (v == befores) & (v == 0):\n",
    "            quarters.append(i-1)\n",
    "            break\n",
    "        befores = v\n",
    "    \n",
    "    \n",
    "    #initial data loading & handling\n",
    "    recend = load_gdp().loc[quarters[0]:]\n",
    "    recend['gdp_b'] = [1 if x > 0 else 0 for x in recend['gdpbillions2009dol'].diff()] #get the current value - the before value\n",
    "    quartere = []; beforee = -1\n",
    "    #iterate on the values of the differences, to end a recession two continuous decrease periods\n",
    "    #should happen after the start period\n",
    "    for i, v in recend['gdp_b'].iteritems():\n",
    "        #     print(i, v, before) #debugging\n",
    "        if (v == beforee) & (v == 1): #current period is the same as the before period (and it's a decrease)\n",
    "            quartere.append(i) #the recession ended the period when the 2nd increment happened\n",
    "            break\n",
    "        beforee = v\n",
    "\n",
    "    return recend['year_quarter'].loc[quartere[0]]\n",
    "get_recession_end()"
   ]
  },
  {
   "cell_type": "code",
   "execution_count": 207,
   "metadata": {
    "collapsed": false
   },
   "outputs": [
    {
     "data": {
      "text/plain": [
       "'2009q2'"
      ]
     },
     "execution_count": 207,
     "metadata": {},
     "output_type": "execute_result"
    }
   ],
   "source": [
    "def get_recession_bottom():\n",
    "    '''Returns the year and quarter of the recession bottom time as a \n",
    "    string value in a format such as 2005q3'''\n",
    "    #recession start information\n",
    "    recstart = load_gdp()\n",
    "    recstart['gdp_b'] = [1 if x > 0 else 0 for x in recstart['gdpbillions2009dol'].diff()] #get the current value - the before value\n",
    "    quarters = []; befores = -1\n",
    "    for i, v in recstart['gdp_b'].iteritems():\n",
    "        if (v == befores) & (v == 0):\n",
    "            quarters.append(i-1)\n",
    "            break\n",
    "        befores = v\n",
    "    \n",
    "    #recession end information\n",
    "    recend = load_gdp().loc[quarters[0]:]\n",
    "    recend['gdp_b'] = [1 if x > 0 else 0 for x in recend['gdpbillions2009dol'].diff()] #get the current value - the before value\n",
    "    quartere = []; beforee = -1\n",
    "    for i, v in recend['gdp_b'].iteritems():\n",
    "        if (v == beforee) & (v == 1):\n",
    "            quartere.append(i)\n",
    "            break\n",
    "        beforee = v\n",
    "    \n",
    "    #getting the bottom recession information\n",
    "    recbot = load_gdp().loc[quarters[0]:quartere[0]] #filter by start and end of recession\n",
    "    botind = recbot[recbot['gdpbillions2009dol'] == recbot['gdpbillions2009dol'].min()].index.tolist()#get the min, get index\n",
    "    return recbot['year_quarter'].loc[botind[0]]\n",
    "# get_recession_bottom()"
   ]
  },
  {
   "cell_type": "code",
   "execution_count": 234,
   "metadata": {
    "collapsed": false
   },
   "outputs": [],
   "source": [
    "def convert_housing_data_to_quarters():\n",
    "    '''Converts the housing data to quarters and returns it as mean \n",
    "    values in a dataframe. This dataframe should be a dataframe with\n",
    "    columns for 2000q1 through 2016q3, and should have a multi-index\n",
    "    in the shape of [\"State\",\"RegionName\"].\n",
    "    \n",
    "    Note: Quarters are defined in the assignment description, they are\n",
    "    not arbitrary three month periods.\n",
    "    \n",
    "    The resulting dataframe should have 67 columns, and 10,730 rows.\n",
    "    '''\n",
    "    rawhdf = pd.read_csv('City_Zhvi_AllHomes.csv')\n",
    "    rawhdf = rawhdf.drop(rawhdf.columns[[0]+list(range(3,51))],axis=1) #only get state, region and 2000 and later\n",
    "    hdf = pd.DataFrame(rawhdf[['State','RegionName']]) #new clean df, to start building quarters\n",
    "    #build the quarters, 3 months each quarter\n",
    "    for year in range(2000,2016):\n",
    "        hdf[str(year)+'q1'] = rawhdf[[str(year)+'-01',str(year)+'-02',str(year)+'-03']].mean(axis=1)\n",
    "        hdf[str(year)+'q2'] = rawhdf[[str(year)+'-04',str(year)+'-05',str(year)+'-06']].mean(axis=1)\n",
    "        hdf[str(year)+'q3'] = rawhdf[[str(year)+'-07',str(year)+'-08',str(year)+'-09']].mean(axis=1)\n",
    "        hdf[str(year)+'q4'] = rawhdf[[str(year)+'-10',str(year)+'-11',str(year)+'-12']].mean(axis=1)\n",
    "\n",
    "    year = 2016    \n",
    "    hdf[str(year)+'q1'] = rawhdf[[str(year)+'-01',str(year)+'-02',str(year)+'-03']].mean(axis=1)\n",
    "    hdf[str(year)+'q2'] = rawhdf[[str(year)+'-04',str(year)+'-05',str(year)+'-06']].mean(axis=1)\n",
    "    hdf[str(year)+'q3'] = rawhdf[[str(year)+'-07',str(year)+'-08']].mean(axis=1)\n",
    "    hdf = hdf.replace({'State':states}) #change the states initials for the proper name\n",
    "    hdf = hdf.set_index(['State','RegionName'])\n",
    "    return hdf\n",
    "# convert_housing_data_to_quarters()"
   ]
  },
  {
   "cell_type": "code",
   "execution_count": 235,
   "metadata": {
    "collapsed": false
   },
   "outputs": [
    {
     "data": {
      "text/plain": [
       "(True, 0.002099659657952052, 'university town')"
      ]
     },
     "execution_count": 235,
     "metadata": {},
     "output_type": "execute_result"
    }
   ],
   "source": [
    "def run_ttest():\n",
    "    '''First creates new data showing the decline or growth of housing prices\n",
    "    between the recession start and the recession bottom. Then runs a ttest\n",
    "    comparing the university town values to the non-university towns values, \n",
    "    return whether the alternative hypothesis (that the two groups are the same)\n",
    "    is true or not as well as the p-value of the confidence. \n",
    "    \n",
    "    Return the tuple (different, p, better) where different=True if the t-test is\n",
    "    True at a p<0.01 (we reject the null hypothesis), or different=False if \n",
    "    otherwise (we cannot reject the null hypothesis). The variable p should\n",
    "    be equal to the exact p value returned from scipy.stats.ttest_ind(). The\n",
    "    value for better should be either \"university town\" or \"non-university town\"\n",
    "    depending on which has a lower mean price ratio (which is equivilent to a\n",
    "    reduced market loss).'''\n",
    "    #prepare data\n",
    "    unitowns = get_list_of_university_towns()\n",
    "    bottom = get_recession_bottom()\n",
    "    start = get_recession_start()\n",
    "    hdata = convert_housing_data_to_quarters()\n",
    "    bstart = hdata.columns[hdata.columns.get_loc(start) -1]\n",
    "    \n",
    "    hdata['ratio'] = hdata[bottom] - hdata[bstart]\n",
    "    hdata = hdata[[bottom,bstart,'ratio']]\n",
    "    hdata = hdata.reset_index()\n",
    "    unitowns_hdata = pd.merge(hdata,unitowns,how='inner',on=['State','RegionName'])\n",
    "    unitowns_hdata['uni'] = True\n",
    "    hdata2 = pd.merge(hdata,unitowns_hdata,how='outer',on=['State','RegionName',bottom,bstart,'ratio'])\n",
    "    hdata2['uni'] = hdata2['uni'].fillna(False)\n",
    "\n",
    "    ut = hdata2[hdata2['uni'] == True]\n",
    "    nut = hdata2[hdata2['uni'] == False]\n",
    "\n",
    "    t,p = ttest_ind(ut['ratio'].dropna(),nut['ratio'].dropna())\n",
    "    \n",
    "    different = True if p < 0.01 else False\n",
    "\n",
    "    better = \"non-university town\" if ut['ratio'].mean() < nut['ratio'].mean() else \"university town\"\n",
    "\n",
    "    return different, p, better\n",
    "# run_ttest()"
   ]
  }
 ],
 "metadata": {
  "anaconda-cloud": {},
  "coursera": {
   "course_slug": "python-data-analysis",
   "graded_item_id": "Il9Fx",
   "launcher_item_id": "TeDW0",
   "part_id": "WGlun"
  },
  "kernelspec": {
   "display_name": "Python [default]",
   "language": "python",
   "name": "python3"
  },
  "language_info": {
   "codemirror_mode": {
    "name": "ipython",
    "version": 3
   },
   "file_extension": ".py",
   "mimetype": "text/x-python",
   "name": "python",
   "nbconvert_exporter": "python",
   "pygments_lexer": "ipython3",
   "version": "3.5.2"
  }
 },
 "nbformat": 4,
 "nbformat_minor": 0
}
